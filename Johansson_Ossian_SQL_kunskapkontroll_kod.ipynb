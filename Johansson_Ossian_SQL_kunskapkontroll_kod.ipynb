{
 "cells": [
  {
   "cell_type": "code",
   "execution_count": 24,
   "id": "2a55af5f",
   "metadata": {},
   "outputs": [],
   "source": [
    "import pandas as pd\n",
    "import numpy as np\n",
    "import matplotlib.pyplot as plt\n",
    "from sqlalchemy import create_engine, Table, inspect"
   ]
  },
  {
   "cell_type": "code",
   "execution_count": 25,
   "id": "fb80c667",
   "metadata": {},
   "outputs": [],
   "source": [
    "engine = create_engine(\"mssql://DESKTOP-VU8DSEC/AdventureWorks2022?trusted_connection=yes&driver=ODBC+Driver+17+for+SQL+Server\")\n",
    "connection = engine.connect()"
   ]
  },
  {
   "cell_type": "code",
   "execution_count": 26,
   "id": "f9e0ab59",
   "metadata": {},
   "outputs": [
    {
     "name": "stdout",
     "output_type": "stream",
     "text": [
      "db_accessadmin\n",
      "db_backupoperator\n",
      "db_datareader\n",
      "db_datawriter\n",
      "db_ddladmin\n",
      "db_denydatareader\n",
      "db_denydatawriter\n",
      "db_owner\n",
      "db_securityadmin\n",
      "dbo\n",
      "guest\n",
      "HumanResources\n",
      "INFORMATION_SCHEMA\n",
      "Person\n",
      "Production\n",
      "Purchasing\n",
      "Sales\n",
      "sys\n"
     ]
    }
   ],
   "source": [
    "inspector = inspect(engine)\n",
    "schemas = inspector.get_schema_names()\n",
    "for schema in schemas:\n",
    "    print(schema)"
   ]
  },
  {
   "cell_type": "code",
   "execution_count": 27,
   "id": "1992af90",
   "metadata": {},
   "outputs": [
    {
     "name": "stdout",
     "output_type": "stream",
     "text": [
      "['Department', 'Employee', 'EmployeeDepartmentHistory', 'EmployeePayHistory', 'JobCandidate', 'Shift']\n"
     ]
    }
   ],
   "source": [
    "print(inspector.get_table_names(schema=\"HumanResources\"))"
   ]
  },
  {
   "cell_type": "code",
   "execution_count": 28,
   "id": "f339dadd",
   "metadata": {},
   "outputs": [
    {
     "name": "stdout",
     "output_type": "stream",
     "text": [
      "BusinessEntityID\n",
      "RateChangeDate\n",
      "Rate\n",
      "PayFrequency\n",
      "ModifiedDate\n"
     ]
    }
   ],
   "source": [
    "for col in inspector.get_columns(table_name=\"EmployeePayHistory\", schema=\"HumanResources\"):\n",
    "    print(col[\"name\"])"
   ]
  },
  {
   "cell_type": "code",
   "execution_count": 29,
   "id": "c8e1fa25",
   "metadata": {
    "scrolled": false
   },
   "outputs": [
    {
     "data": {
      "text/html": [
       "<div>\n",
       "<style scoped>\n",
       "    .dataframe tbody tr th:only-of-type {\n",
       "        vertical-align: middle;\n",
       "    }\n",
       "\n",
       "    .dataframe tbody tr th {\n",
       "        vertical-align: top;\n",
       "    }\n",
       "\n",
       "    .dataframe thead th {\n",
       "        text-align: right;\n",
       "    }\n",
       "</style>\n",
       "<table border=\"1\" class=\"dataframe\">\n",
       "  <thead>\n",
       "    <tr style=\"text-align: right;\">\n",
       "      <th></th>\n",
       "      <th>Department Name</th>\n",
       "      <th>Employee Count</th>\n",
       "      <th>Average Salary</th>\n",
       "      <th>Average age</th>\n",
       "    </tr>\n",
       "  </thead>\n",
       "  <tbody>\n",
       "    <tr>\n",
       "      <th>0</th>\n",
       "      <td>Document Control</td>\n",
       "      <td>5</td>\n",
       "      <td>14.3884</td>\n",
       "      <td>41</td>\n",
       "    </tr>\n",
       "    <tr>\n",
       "      <th>1</th>\n",
       "      <td>Engineering</td>\n",
       "      <td>9</td>\n",
       "      <td>33.6723</td>\n",
       "      <td>55</td>\n",
       "    </tr>\n",
       "    <tr>\n",
       "      <th>2</th>\n",
       "      <td>Executive</td>\n",
       "      <td>4</td>\n",
       "      <td>68.3034</td>\n",
       "      <td>49</td>\n",
       "    </tr>\n",
       "    <tr>\n",
       "      <th>3</th>\n",
       "      <td>Facilities and Maintenance</td>\n",
       "      <td>7</td>\n",
       "      <td>13.0316</td>\n",
       "      <td>55</td>\n",
       "    </tr>\n",
       "    <tr>\n",
       "      <th>4</th>\n",
       "      <td>Finance</td>\n",
       "      <td>13</td>\n",
       "      <td>29.7742</td>\n",
       "      <td>46</td>\n",
       "    </tr>\n",
       "    <tr>\n",
       "      <th>5</th>\n",
       "      <td>Human Resources</td>\n",
       "      <td>6</td>\n",
       "      <td>18.0248</td>\n",
       "      <td>44</td>\n",
       "    </tr>\n",
       "    <tr>\n",
       "      <th>6</th>\n",
       "      <td>Information Services</td>\n",
       "      <td>10</td>\n",
       "      <td>34.1586</td>\n",
       "      <td>43</td>\n",
       "    </tr>\n",
       "    <tr>\n",
       "      <th>7</th>\n",
       "      <td>Marketing</td>\n",
       "      <td>14</td>\n",
       "      <td>18.9364</td>\n",
       "      <td>46</td>\n",
       "    </tr>\n",
       "    <tr>\n",
       "      <th>8</th>\n",
       "      <td>Production</td>\n",
       "      <td>198</td>\n",
       "      <td>13.5409</td>\n",
       "      <td>44</td>\n",
       "    </tr>\n",
       "    <tr>\n",
       "      <th>9</th>\n",
       "      <td>Production Control</td>\n",
       "      <td>8</td>\n",
       "      <td>16.7746</td>\n",
       "      <td>43</td>\n",
       "    </tr>\n",
       "    <tr>\n",
       "      <th>10</th>\n",
       "      <td>Purchasing</td>\n",
       "      <td>17</td>\n",
       "      <td>20.1489</td>\n",
       "      <td>50</td>\n",
       "    </tr>\n",
       "    <tr>\n",
       "      <th>11</th>\n",
       "      <td>Quality Assurance</td>\n",
       "      <td>9</td>\n",
       "      <td>17.2387</td>\n",
       "      <td>45</td>\n",
       "    </tr>\n",
       "    <tr>\n",
       "      <th>12</th>\n",
       "      <td>Research and Development</td>\n",
       "      <td>4</td>\n",
       "      <td>43.6731</td>\n",
       "      <td>40</td>\n",
       "    </tr>\n",
       "    <tr>\n",
       "      <th>13</th>\n",
       "      <td>Sales</td>\n",
       "      <td>18</td>\n",
       "      <td>29.9719</td>\n",
       "      <td>53</td>\n",
       "    </tr>\n",
       "    <tr>\n",
       "      <th>14</th>\n",
       "      <td>Shipping and Receiving</td>\n",
       "      <td>6</td>\n",
       "      <td>10.8718</td>\n",
       "      <td>45</td>\n",
       "    </tr>\n",
       "    <tr>\n",
       "      <th>15</th>\n",
       "      <td>Tool Design</td>\n",
       "      <td>6</td>\n",
       "      <td>23.5054</td>\n",
       "      <td>49</td>\n",
       "    </tr>\n",
       "  </tbody>\n",
       "</table>\n",
       "</div>"
      ],
      "text/plain": [
       "               Department Name  Employee Count  Average Salary  Average age\n",
       "0             Document Control               5         14.3884           41\n",
       "1                  Engineering               9         33.6723           55\n",
       "2                    Executive               4         68.3034           49\n",
       "3   Facilities and Maintenance               7         13.0316           55\n",
       "4                      Finance              13         29.7742           46\n",
       "5              Human Resources               6         18.0248           44\n",
       "6         Information Services              10         34.1586           43\n",
       "7                    Marketing              14         18.9364           46\n",
       "8                   Production             198         13.5409           44\n",
       "9           Production Control               8         16.7746           43\n",
       "10                  Purchasing              17         20.1489           50\n",
       "11           Quality Assurance               9         17.2387           45\n",
       "12    Research and Development               4         43.6731           40\n",
       "13                       Sales              18         29.9719           53\n",
       "14      Shipping and Receiving               6         10.8718           45\n",
       "15                 Tool Design               6         23.5054           49"
      ]
     },
     "execution_count": 29,
     "metadata": {},
     "output_type": "execute_result"
    }
   ],
   "source": [
    "department_overview_sql = \"\"\"\n",
    "SELECT\n",
    "    HRd.Name AS \"Department Name\",\n",
    "    COUNT(HRE.BusinessEntityID) AS \"Employee Count\",\n",
    "    AVG(HReph.Rate) AS \"Average Salary\",\n",
    "    AVG(Datediff(\"yyyy\",HRE.BirthDate,getdate())) as \"Average age\"\n",
    "FROM\n",
    "    HumanResources.Employee AS HRE\n",
    "    JOIN\n",
    "        HumanResources.EmployeeDepartmentHistory AS HRedh ON HRE.BusinessEntityID = HRedh.BusinessEntityID\n",
    "    JOIN\n",
    "        HumanResources.Department AS HRd ON HRedh.DepartmentID = HRd.DepartmentID\n",
    "            LEFT JOIN\n",
    "                HumanResources.EmployeePayHistory AS HReph ON HRE.BusinessEntityID = HReph.BusinessEntityID\n",
    "GROUP BY\n",
    "    HRd.Name\n",
    "ORDER BY\n",
    "    \"Department Name\" ASC\n",
    "\"\"\"\n",
    "department_overview_df = pd.read_sql(department_overview_sql, engine)\n",
    "department_overview_df"
   ]
  },
  {
   "cell_type": "code",
   "execution_count": 30,
   "id": "8f2aec65",
   "metadata": {},
   "outputs": [
    {
     "data": {
      "text/plain": [
       "Text(0, 0.5, 'Average Age')"
      ]
     },
     "execution_count": 30,
     "metadata": {},
     "output_type": "execute_result"
    },
    {
     "data": {
      "image/png": "[encoded data removed]",
      "text/plain": [
       "<Figure size 1200x600 with 2 Axes>"
      ]
     },
     "metadata": {},
     "output_type": "display_data"
    }
   ],
   "source": [
    "#fixa namn måste göras!\n",
    "#Average salary / department\n",
    "plt.figure(figsize=(12, 6))\n",
    "plt.subplot(1, 2, 1)\n",
    "plt.bar(department_overview_df[\"Department Name\"], department_overview_df[\"Average Salary\"], color=\"blue\")\n",
    "plt.title(\"Average Salary by Department\")\n",
    "plt.xlabel(\"Department Name\")\n",
    "plt.ylabel(\"Average Salary\")\n",
    "\n",
    "#Average age / department\n",
    "plt.subplot(1, 2, 2)\n",
    "plt.bar(department_overview_df[\"Department Name\"], department_overview_df[\"Average age\"], color=\"red\")\n",
    "plt.title(\"Average Age by Department\")\n",
    "plt.xlabel(\"Department Name\")\n",
    "plt.ylabel(\"Average Age\")"
   ]
  },
  {
   "cell_type": "code",
   "execution_count": 31,
   "id": "4228faf7",
   "metadata": {},
   "outputs": [
    {
     "name": "stdout",
     "output_type": "stream",
     "text": [
      "0.6284002431297332\n",
      "0.7355997568702669\n"
     ]
    }
   ],
   "source": [
    "p = 0.682 #procent anställda i produktion\n",
    "n = 290 #totalt antalet anställda\n",
    "z = 1.96 #95% KI\n",
    "s_p = np.sqrt(p*(1-p)/n)\n",
    "\n",
    "ci_lower = p - z*s_p\n",
    "ci_upper = p + z*s_p\n",
    "\n",
    "print(ci_lower)\n",
    "print(ci_upper) "
   ]
  },
  {
   "cell_type": "code",
   "execution_count": 32,
   "id": "9bde1eb8",
   "metadata": {},
   "outputs": [
    {
     "data": {
      "text/html": [
       "<div>\n",
       "<style scoped>\n",
       "    .dataframe tbody tr th:only-of-type {\n",
       "        vertical-align: middle;\n",
       "    }\n",
       "\n",
       "    .dataframe tbody tr th {\n",
       "        vertical-align: top;\n",
       "    }\n",
       "\n",
       "    .dataframe thead th {\n",
       "        text-align: right;\n",
       "    }\n",
       "</style>\n",
       "<table border=\"1\" class=\"dataframe\">\n",
       "  <thead>\n",
       "    <tr style=\"text-align: right;\">\n",
       "      <th></th>\n",
       "      <th>Gender</th>\n",
       "      <th>Average age</th>\n",
       "      <th>Average hourly rate</th>\n",
       "    </tr>\n",
       "  </thead>\n",
       "  <tbody>\n",
       "    <tr>\n",
       "      <th>0</th>\n",
       "      <td>F</td>\n",
       "      <td>46</td>\n",
       "      <td>19.7182</td>\n",
       "    </tr>\n",
       "    <tr>\n",
       "      <th>1</th>\n",
       "      <td>M</td>\n",
       "      <td>45</td>\n",
       "      <td>17.0025</td>\n",
       "    </tr>\n",
       "  </tbody>\n",
       "</table>\n",
       "</div>"
      ],
      "text/plain": [
       "  Gender  Average age  Average hourly rate\n",
       "0      F           46              19.7182\n",
       "1      M           45              17.0025"
      ]
     },
     "execution_count": 32,
     "metadata": {},
     "output_type": "execute_result"
    }
   ],
   "source": [
    "salary_sql = \"\"\"\n",
    "SELECT\n",
    "    HRE.Gender,\n",
    "    AVG(Datediff(\"yyyy\",HRE.BirthDate,getdate())) as \"Average age\",\n",
    "    AVG(HReph.Rate) AS \"Average hourly rate\"\n",
    "FROM \n",
    "    HumanResources.Employee AS HRE,\n",
    "    HumanResources.EmployeePayHistory AS HReph\n",
    "WHERE\n",
    "    HRE.BusinessEntityID = HReph.BusinessEntityID\n",
    "\n",
    "GROUP BY\n",
    "    Gender\n",
    "\"\"\"\n",
    "salary_df = pd.read_sql(salary_sql, engine)\n",
    "salary_df"
   ]
  },
  {
   "cell_type": "code",
   "execution_count": 33,
   "id": "c06e6a43",
   "metadata": {},
   "outputs": [
    {
     "data": {
      "text/plain": [
       "Text(0, 0.5, 'Average Hourly Rate')"
      ]
     },
     "execution_count": 33,
     "metadata": {},
     "output_type": "execute_result"
    },
    {
     "data": {
      "image/png": "[encoded data removed]",
      "text/plain": [
       "<Figure size 640x480 with 1 Axes>"
      ]
     },
     "metadata": {},
     "output_type": "display_data"
    }
   ],
   "source": [
    "plt.subplot(1, 2, 1)\n",
    "plt.bar(salary_df[\"Gender\"], salary_df[\"Average hourly rate\"], color=\"blue\")\n",
    "plt.title(\"Average Hourly Rate by Gender\")\n",
    "plt.xlabel(\"Gender\")\n",
    "plt.ylabel(\"Average Hourly Rate\")"
   ]
  }
 ],
 "metadata": {
  "kernelspec": {
   "display_name": "Python 3 (ipykernel)",
   "language": "python",
   "name": "python3"
  },
  "language_info": {
   "codemirror_mode": {
    "name": "ipython",
    "version": 3
   },
   "file_extension": ".py",
   "mimetype": "text/x-python",
   "name": "python",
   "nbconvert_exporter": "python",
   "pygments_lexer": "ipython3",
   "version": "3.9.18"
  }
 },
 "nbformat": 4,
 "nbformat_minor": 5
}
